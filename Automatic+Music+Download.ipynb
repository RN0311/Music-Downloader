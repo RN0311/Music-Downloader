{
 "cells": [
  {
   "cell_type": "code",
   "execution_count": 8,
   "metadata": {
    "collapsed": false
   },
   "outputs": [],
   "source": [
    "import os\n",
    "import glob\n",
    "from bs4 import BeautifulSoup\n",
    "from urllib.request import urlopen\n",
    "import urllib.parse"
   ]
  },
  {
   "cell_type": "code",
   "execution_count": 18,
   "metadata": {
    "collapsed": false
   },
   "outputs": [
    {
     "name": "stdout",
     "output_type": "stream",
     "text": [
      "Enter name of songLinkin Park - In the End\n",
      "Making a Query request!\n",
      "/watch?v=eVTXPUF4Oz4\n",
      "Processing!\n"
     ]
    },
    {
     "data": {
      "text/plain": [
       "512"
      ]
     },
     "execution_count": 18,
     "metadata": {},
     "output_type": "execute_result"
    }
   ],
   "source": [
    "from six.moves.urllib.parse import quote\n",
    "from urllib.parse import quote \n",
    "search = 'love story taylor'\n",
    "search = input('Enter name of song you want to download')\n",
    "search = urllib.parse.quote(str(search),safe='')\n",
    "print('Loading!')\n",
    "response = urlopen('https://www.youtube.com/results?search_query='+search)\n",
    "html = response.read()\n",
    "parser = BeautifulSoup(html,'html.parser')\n",
    "for p in parser.find_all('a'):\n",
    "    if '/watch?v=' in p.get('href'):\n",
    "        print(p.get('href'))\n",
    "        proper_linking = p.get('href')\n",
    "        break\n",
    "        \n",
    "        \n",
    "proper_linking = 'http://www.youtube.com/'+proper_linking\n",
    "command = 'youtube-dl --extract-audio --audio-format mp3'+proper_linking\n",
    "print('Processing!')\n",
    "os.system(command)"
   ]
  },
  {
   "cell_type": "code",
   "execution_count": null,
   "metadata": {
    "collapsed": true
   },
   "outputs": [],
   "source": []
  }
 ],
 "metadata": {
  "anaconda-cloud": {},
  "kernelspec": {
   "display_name": "Python [conda root]",
   "language": "python",
   "name": "conda-root-py"
  },
  "language_info": {
   "codemirror_mode": {
    "name": "ipython",
    "version": 3
   },
   "file_extension": ".py",
   "mimetype": "text/x-python",
   "name": "python",
   "nbconvert_exporter": "python",
   "pygments_lexer": "ipython3",
   "version": "3.5.2"
  }
 },
 "nbformat": 4,
 "nbformat_minor": 2
}
